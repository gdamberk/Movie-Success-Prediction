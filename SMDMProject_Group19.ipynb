{
 "cells": [
  {
   "cell_type": "code",
   "execution_count": 1,
   "metadata": {
    "collapsed": true
   },
   "outputs": [],
   "source": [
    "from imdb import IMDb\n",
    "\n",
    "import numpy as np\n",
    "\n",
    "from tkinter.scrolledtext import ScrolledText\n",
    "\n",
    "import tkinter\n",
    "\n",
    "from tkinter import *\n",
    "\n",
    "import tkinter as tk\n",
    "\n",
    "from tkinter import ttk\n",
    "\n",
    "import io\n",
    "\n",
    "import base64\n",
    "\n",
    "from urllib.request import urlopen\n",
    "\n",
    "import webbrowser\n",
    "\n",
    "import matplotlib\n",
    "matplotlib.use(\"TkAgg\")\n",
    "from matplotlib.backends.backend_tkagg import FigureCanvasTkAgg, NavigationToolbar2TkAgg\n",
    "from matplotlib.figure import Figure"
   ]
  },
  {
   "cell_type": "code",
   "execution_count": 2,
   "metadata": {
    "collapsed": true
   },
   "outputs": [],
   "source": [
    "year_list = [2009, 2010, 2011, 2012, 2013, 2014, 2015, 2016, 2017, 2018]\n",
    "genre_list = ['Action','Adventure','Animation','Comedy','Drama','Family', 'Fantasy', 'Horror','Thriller', 'Romance','Sci-Fi']"
   ]
  },
  {
   "cell_type": "code",
   "execution_count": 3,
   "metadata": {
    "collapsed": true
   },
   "outputs": [],
   "source": [
    "ia = IMDb()"
   ]
  },
  {
   "cell_type": "code",
   "execution_count": 4,
   "metadata": {
    "collapsed": true
   },
   "outputs": [],
   "source": [
    "def find_rating_over_years(movie_list, year_list):\n",
    "    print(\"find_rating_over_years\")\n",
    "    m = {}\n",
    "    y = []\n",
    "    rating = {}\n",
    "    for z in movie_list:\n",
    "        if z.get('year') in year_list:\n",
    "            movieID = z.getID()\n",
    "            m = ia.get_movie(movieID)\n",
    "            if z.get('year') in rating.keys():\n",
    "                y = rating[z.get('year')]\n",
    "            else:\n",
    "                y = []\n",
    "            if m.get('rating') is not None:\n",
    "                y.append(m.get('rating'))\n",
    "                rating[z.get('year')] = y\n",
    "    return rating"
   ]
  },
  {
   "cell_type": "code",
   "execution_count": 5,
   "metadata": {
    "collapsed": true
   },
   "outputs": [],
   "source": [
    "def find_average_rating(rating, year_list):\n",
    "    avg_rating = {}\n",
    "    for key in year_list:\n",
    "        if key in rating.keys():\n",
    "            avg_rating[key] = str(round(np.mean(rating[key]), 2))\n",
    "        else:\n",
    "            avg_rating[key] = 0\n",
    "    return avg_rating"
   ]
  },
  {
   "cell_type": "code",
   "execution_count": 6,
   "metadata": {
    "collapsed": true
   },
   "outputs": [],
   "source": [
    "def getMovieList(full_person, category):\n",
    "    print(\"inside movielist\")\n",
    "    movies = full_person.get('filmography')\n",
    "    movie_list = []\n",
    "    for movie in movies:\n",
    "        for key in movie.keys():\n",
    "            if 'actress' in  movie.keys():\n",
    "                movie_list = movie['actress']\n",
    "            if(key == category):\n",
    "                movie_list = movie[category]\n",
    "            \n",
    "            \n",
    "    return movie_list"
   ]
  },
  {
   "cell_type": "code",
   "execution_count": 7,
   "metadata": {
    "collapsed": true
   },
   "outputs": [],
   "source": [
    "def getGenreRate(movie_list):\n",
    "    print(\"getGenreRate\")\n",
    "    rate  = {}\n",
    "    rating = []\n",
    "    for movieID in movie_list:\n",
    "        if movieID.get('year') in year_list:\n",
    "            mID = movieID.getID()\n",
    "            details = ia.get_movie(mID)\n",
    "            if details.get('rating') is not None:\n",
    "                for genre in details.get('genres'):\n",
    "                    if genre in rate.keys():\n",
    "                        rating = rate[genre]\n",
    "                    else:\n",
    "                        rating = []\n",
    "                    rating.append(details.get('rating'))\n",
    "                    rate[genre] = rating\n",
    "    return rate"
   ]
  },
  {
   "cell_type": "code",
   "execution_count": 8,
   "metadata": {
    "collapsed": true
   },
   "outputs": [],
   "source": [
    " def getAvgGenre(rate):\n",
    "    genre_rate = {}\n",
    "    for key, values in rate.items():\n",
    "        if (key in genre_list):\n",
    "            genre_rate[key] = (str(round(np.mean(values), 2))) \n",
    "    return genre_rate"
   ]
  },
  {
   "cell_type": "code",
   "execution_count": 9,
   "metadata": {
    "collapsed": true
   },
   "outputs": [],
   "source": [
    "def getURL(full_person):\n",
    "    photo = full_person.get('full-size headshot')\n",
    "    name = full_person.get('name')\n",
    "    URL = ia.get_imdbURL(actor[0])\n",
    "    return ([photo,name,URL])"
   ]
  },
  {
   "cell_type": "code",
   "execution_count": 10,
   "metadata": {
    "collapsed": true
   },
   "outputs": [],
   "source": [
    "def getSuccessRate(full_person, category):\n",
    "    print(\"inside getsucessrate1\")\n",
    "    #calculate the success rate of actor\n",
    "    movie_list = getMovieList(full_person, category)\n",
    "    rating = find_rating_over_years(movie_list, year_list)\n",
    "    rate = getGenreRate(movie_list)\n",
    "    return ([rating,rate])"
   ]
  },
  {
   "cell_type": "code",
   "execution_count": 11,
   "metadata": {
    "collapsed": true
   },
   "outputs": [],
   "source": [
    "def getSuccess(full_person, category):\n",
    "    print(\"inside getsucessrate1\")\n",
    "    #calculate the success rate of actor\n",
    "    movie_list = getMovieList(full_person, category)\n",
    "    rate = getGenreRate(movie_list)\n",
    "    return (rate)"
   ]
  },
  {
   "cell_type": "code",
   "execution_count": 12,
   "metadata": {
    "collapsed": true
   },
   "outputs": [],
   "source": [
    "def getAverage(rating,rate):\n",
    "    avg_rating = find_average_rating(rating, year_list)\n",
    "    genre_rate = getAvgGenre(rate)\n",
    "    print (genre_rate)\n",
    "    print (avg_rating)\n",
    "    return ([avg_rating,genre_rate])"
   ]
  },
  {
   "cell_type": "code",
   "execution_count": 23,
   "metadata": {
    "collapsed": true
   },
   "outputs": [],
   "source": [
    "def getMoviePrediction(genre, actor1, actor2, director):\n",
    "    genre_movies = {'Action': [31, 250],'Adventure': [52, 250],'Animation': [20, 250],'Comedy': [43, 250],'Drama': [185, 250],'Family': [23, 250],'Fantasy': [30, 250],'Horror': [5, 250],'Romance': [28, 250],'Sci-Fi': [30, 250], 'Thriller': [63, 250]}\n",
    "    #Uncomment following line to get latest list\n",
    "    #genre_movies = get_genre_movie_list()\n",
    "    if actor2 == \"\":\n",
    "        e2 = 1\n",
    "        e2o = 1\n",
    "    else:\n",
    "        actor2 = ia.search_person(actor2)\n",
    "        full_person2 = ia.get_person(actor2[0].getID(), info=[\"filmography\"])\n",
    "        genreA2 = getSuccess(full_person2,'actor')\n",
    "        totalA2,successA2, gSuccessA2 = getRating(genreA2, genre)\n",
    "        gMovieA2 = len(genreA2[genre])\n",
    "        print (totalA2,successA2,gSuccessA2, gMovieA2)\n",
    "        if gSuccessA2 == 0 or successA2 == 0 or totalA2 == 0:\n",
    "            if successA2 == 0:                \n",
    "                e2 = 0.5\n",
    "            if gSuccessA2 == 0:\n",
    "                e20 = 0.5\n",
    "        else:\n",
    "            e2 = successA2/totalA2\n",
    "            e2o = gSuccessA2/gMovieA2\n",
    "            \n",
    "    actor1 = ia.search_person(actor1)\n",
    "    full_person1 = ia.get_person(actor1[0].getID(), info=[\"filmography\"])\n",
    "    genreA1 = getSuccess(full_person1,'actor')\n",
    "    totalA1,successA1, gSuccessA1 = getRating(genreA1, genre)\n",
    "    gMovieA1 = len(genreA1[genre])\n",
    "    print (totalA1,successA1,gSuccessA1, gMovieA1)\n",
    "    if gSuccessA1 == 0 or successA1 == 0 or totalA1 == 0:\n",
    "        if successA1 == 0:                \n",
    "            e1 = 0.5\n",
    "        if gSuccessA1 == 0:\n",
    "            e10 = 0.5\n",
    "    else:\n",
    "        e1 = successA1/totalA1\n",
    "        e1o = gSuccessA1/gMovieA1\n",
    "      \n",
    "    director = ia.search_person(director)\n",
    "    full_person3 = ia.get_person(director[0].getID(), info=[\"filmography\"])\n",
    "    genreD = getSuccess(full_person3,'director')\n",
    "    print (genreD)\n",
    "    totalD,successD, gSuccessD = getRating(genreD, genre)\n",
    "    gMovieD = len(genreD[genre])\n",
    "    print (totalD,successD, gSuccessD,gMovieD)\n",
    "    if gSuccessD == 0 or successD == 0 or totalD == 0:\n",
    "        if successD == 0:                \n",
    "            eD = 0.5\n",
    "        if gSuccessD == 0:\n",
    "            eDo = 0.5\n",
    "    else:\n",
    "        eD = successD/totalD\n",
    "        eDo = gSuccessD/gMovieD\n",
    "    \n",
    "    Po = (e1o* e2o* eDo)/ (e1* e2*eD)\n",
    "    genreS = genre_movies[genre]\n",
    "    Po = Po * (genreS[0]/genreS[1]) *100\n",
    "    if Po > 100:\n",
    "        Po = 70\n",
    "    print (e1, e1o, e2,e2o, eD,eDo, Po)\n",
    "    return Po"
   ]
  },
  {
   "cell_type": "code",
   "execution_count": 14,
   "metadata": {
    "collapsed": true
   },
   "outputs": [],
   "source": [
    "def getRating(genreList, genre):\n",
    "    total = 0\n",
    "    success = 0\n",
    "    genreSuccess = 0\n",
    "    for key,value in genreList.items():\n",
    "        total = total + len(value)\n",
    "        for v in value:\n",
    "            if float(v) >= 7.0 :\n",
    "                success = success + 1\n",
    "                if key == genre:\n",
    "                    genreSuccess = genreSuccess + 1\n",
    "    return([total,success, genreSuccess])"
   ]
  },
  {
   "cell_type": "code",
   "execution_count": 15,
   "metadata": {
    "collapsed": true
   },
   "outputs": [],
   "source": [
    "def get_genre_movie_list():\n",
    "    m2 = ia.get_top250_movies()\n",
    "    genre_movies_all  = {}\n",
    "    movies_all = []\n",
    "    for movieID in m2:\n",
    "        mID = movieID.getID()\n",
    "        details = ia.get_movie(mID)\n",
    "        for genre in details.get('genres'):\n",
    "            if genre in genre_movies_all.keys():\n",
    "                movies_all = genre_movies_all[genre]\n",
    "            else:\n",
    "                movies_all = []\n",
    "            movies_all.append(movieID)\n",
    "            genre_movies_all[genre] = movies_all\n",
    "    genre_movies = {}\n",
    "    for key in genre_movies_all.keys():\n",
    "        if (key in genre_list):\n",
    "            genre_movies[key] = [len(genre_movies_all[key]), 250]\n",
    "    return genre_movies"
   ]
  },
  {
   "cell_type": "code",
   "execution_count": 21,
   "metadata": {},
   "outputs": [
    {
     "name": "stdout",
     "output_type": "stream",
     "text": [
      "inside getsucessrate1\n",
      "inside movielist\n",
      "find_rating_over_years\n",
      "getGenreRate\n",
      "{'Romance': '5.28', 'Action': '6.7', 'Thriller': '6.07', 'Drama': '5.65', 'Comedy': '6.63', 'Horror': '5.47', 'Sci-Fi': '5.3', 'Fantasy': '5.3', 'Adventure': '6.3'}\n",
      "{2009: '5.67', 2010: '6.0', 2011: 0, 2012: '4.1', 2013: '6.2', 2014: '7.3', 2015: '6.35', 2016: '6.09', 2017: '5.93', 2018: 0}\n",
      "{2017: [3.4, 7.5, 6.9], 2016: [6.8, 5.3, 6.2, 6.2, 6.3, 7.5, 4.3], 2015: [7.8, 4.9], 2014: [7.3], 2013: [6.3, 6.1], 2012: [4.1], 2010: [6.0], 2009: [5.6, 5.0, 6.4]}\n"
     ]
    }
   ],
   "source": [
    "year_list = [2009, 2010, 2011, 2012, 2013, 2014, 2015, 2016, 2017, 2018]\n",
    "genre_list = ['Action','Adventure','Animation','Comedy','Drama','Family', 'Fantasy', 'Horror','Thriller', 'Romance','Sci-Fi']\n",
    "name = 'keanu Reeves'\n",
    "actor = ia.search_person(name)\n",
    "full_person = ia.get_person(actor[0].getID(), info=[\"filmography\"])\n",
    "    \n",
    "photo,name,URL = getURL(full_person)\n",
    "rating,rate = getSuccessRate(full_person,'actor')\n",
    "avg_rating,genre_rate = getAverage(rating,rate)\n",
    "print(rating)"
   ]
  },
  {
   "cell_type": "code",
   "execution_count": 24,
   "metadata": {
    "scrolled": true
   },
   "outputs": [
    {
     "name": "stdout",
     "output_type": "stream",
     "text": [
      "inside getsucessrate1\n",
      "inside movielist\n",
      "getGenreRate\n",
      "76 37 5 10\n",
      "inside getsucessrate1\n",
      "inside movielist\n",
      "getGenreRate\n",
      "65 14 3 8\n",
      "inside getsucessrate1\n",
      "inside movielist\n",
      "getGenreRate\n",
      "{'Biography': [6.6, 6.6], 'Comedy': [6.6, 6.6, 6.5, 7.4, 6.6], 'Drama': [6.6, 6.6, 7.4, 6.6], 'War': [6.6], 'Crime': [6.6, 6.6], 'Romance': [6.6, 7.4, 6.6]}\n",
      "17 3 1 4\n",
      "0.2153846153846154 0.375 0.4868421052631579 0.5 0.17647058823529413 0.25 70\n"
     ]
    },
    {
     "data": {
      "text/plain": [
       "70"
      ]
     },
     "execution_count": 24,
     "metadata": {},
     "output_type": "execute_result"
    }
   ],
   "source": [
    "getMoviePrediction(\"Drama\", \"Reese witherspoon\", \"emma stone\", \"Glenn Ficarra\")\n"
   ]
  },
  {
   "cell_type": "code",
   "execution_count": 17,
   "metadata": {
    "collapsed": true
   },
   "outputs": [],
   "source": [
    "def callback(event):\n",
    "   webbrowser.open_new(event.widget.cget(\"text\"))"
   ]
  },
  {
   "cell_type": "code",
   "execution_count": 18,
   "metadata": {
    "collapsed": true
   },
   "outputs": [],
   "source": [
    "def functionHelloCallBack(res):\n",
    "       \n",
    "        actor = ia.search_person(res)\n",
    "        full_person = ia.get_person(actor[0].getID(), info=[\"filmography\"])\n",
    "        photo = full_person.get('full-size headshot')\n",
    "        name = full_person.get('name')\n",
    "        URL = ia.get_imdbURL(actor[0])\n",
    "        print(name)\n",
    "        print(URL)\n",
    "   \n",
    "        lbl.configure(text=name)\n",
    "        lbl1.configure(text=URL)\n",
    "        lbl2.configure(text=photo)\n",
    "        print(\"after label\")\n",
    "        \n",
    "        rating,rate = getSuccessRate(full_person,'actor')\n",
    "        print(rating)\n",
    "        print(rate)\n",
    "        avg_rating,genre_rate = getAverage(rating,rate)\n",
    "        #movie_list = getMovieList(full_person)\n",
    "        #rating = find_rating_over_years(movie_list, year_list)\n",
    "        #avg_rating = find_average_rating(rating, year_list)\n",
    "    \n",
    "        print(avg_rating)\n",
    "        years = list(avg_rating.keys())  \n",
    "        ratings = list(avg_rating.values())\n",
    "    \n",
    "        graph_year = tkinter.Tk()\n",
    "        graph_year.title('SUCCESS GRAPH OVER YEARS')\n",
    "    \n",
    "    \n",
    "        f = Figure(figsize=(5,5), dpi=100)\n",
    "        a = f.add_subplot(111)\n",
    "        a.plot(years,ratings)\n",
    "    \n",
    "        canvas = FigureCanvasTkAgg(f,graph_year)\n",
    "        canvas.show()\n",
    "        canvas.get_tk_widget().pack()\n",
    "    \n",
    "        toolbar = NavigationToolbar2TkAgg(canvas, graph_year)\n",
    "        toolbar.update()\n",
    "        canvas._tkcanvas.pack()\n",
    "    \n",
    "  \n",
    "        #genre_rate = getGenreRate(movie_list)\n",
    "        print(genre_rate)\n",
    "        genre = list(genre_rate.keys())          \n",
    "        ratings = list(genre_rate.values())\n",
    "    \n",
    "        graph_genre = tk.Toplevel(top)\n",
    "        graph_genre.title('SUCCESS GRAPH FOR GENRE')\n",
    "    \n",
    "    \n",
    "        f1 = Figure(figsize=(8,5), dpi=100)\n",
    "        a1 = f1.add_subplot(111)\n",
    "        a1.bar(genre,ratings,align='center')\n",
    "    \n",
    "    \n",
    "        canvas1 = FigureCanvasTkAgg(f1,graph_genre)\n",
    "        canvas1.show()\n",
    "        canvas1.get_tk_widget().pack()\n",
    "    \n",
    "        toolbar = NavigationToolbar2TkAgg(canvas1, graph_genre)\n",
    "        toolbar.update()\n",
    "        canvas1._tkcanvas.pack()"
   ]
  },
  {
   "cell_type": "code",
   "execution_count": 19,
   "metadata": {
    "collapsed": true
   },
   "outputs": [],
   "source": [
    "def helloCallBack():\n",
    "    \n",
    "    print(\"You clicked the button !\")\n",
    "    \n",
    "    \n",
    "        \n",
    "    if len(entry.get()) == 0:\n",
    "        print(\"sorry\")\n",
    "        lbl1.configure(text=\" \")\n",
    "        lbl2.configure(text=\" \")\n",
    "        lbl.configure(text=\"please enter a name\")\n",
    "    else:\n",
    "        print(\"here\")\n",
    "        res =  entry.get()\n",
    "        print(res)\n",
    "        var = res.replace(\" \", \"\")\n",
    "        if(var.isalpha()):\n",
    "            functionHelloCallBack(res)\n",
    "        else:\n",
    "            lbl.configure(text=\"please enter a name without numbers and special character\")\n",
    "            print(\"sorry\")\n",
    "            \n",
    "    \n",
    "    \n",
    "    #image_url = \"http://i46.tinypic.com/r9oh0j.gif\"\n",
    "    #image_byt = urlopen(image_url).read()\n",
    "    #image_b64 = base64.encodebytes(image_byt)\n",
    "    #photo = tk.PhotoImage(data=image_b64)\n",
    "    \n",
    "    #cv = tk.Canvas(top,bg='black')\n",
    "   \n",
    "    #cv.create_image(10, 10, image=photo, anchor='nw')\n",
    "    #cv.pack(side='top', fill='both', expand='yes')"
   ]
  },
  {
   "cell_type": "code",
   "execution_count": 20,
   "metadata": {
    "collapsed": true
   },
   "outputs": [],
   "source": [
    "def count():\n",
    "    a=10\n",
    "    b=90\n",
    "    \n",
    "    return a\n",
    "\n",
    "\n",
    "def movie_Predict():\n",
    "    actor1 = entry4.get()\n",
    "   # genre = entry3.get()\n",
    "    director = entry6.get()\n",
    "    actor = entry5.get()\n",
    "    print(variable.get()) \n",
    "    \n",
    "    if (entry4.get() and entry6.get()):\n",
    "        # the user entered data in the mandatory entry: proceed to next step\n",
    "        print(\"next step\")\n",
    "        labels = 'SUCCESS', 'FAILURE'\n",
    "        sizes = [78,22]\n",
    "        explode = (0, 0.1)  # only \"explode\" the 2nd slice (i.e. 'Hogs')\n",
    "        \n",
    "        list2=getMoviePrediction(variable.get(), actor, actor1,director)\n",
    "        print(list2)\n",
    "\n",
    "        \n",
    "        b = 100-list2\n",
    "        a=[]\n",
    "        a=[list2,b]\n",
    "    \n",
    "        pie_success = tk.Toplevel(top)\n",
    "        pie_success.title('PIE OF PREDICTION')\n",
    "    \n",
    "        f1 = Figure(figsize=(8,5), dpi=100)\n",
    "        a1 = f1.add_subplot(111)\n",
    "        a1.pie(a, explode=explode, labels=labels, autopct='%1.1f%%',\n",
    "            shadow=True, startangle=90)\n",
    "    \n",
    "    \n",
    "        canvas1 = FigureCanvasTkAgg(f1,pie_success)\n",
    "        canvas1.show()\n",
    "        canvas1.get_tk_widget().pack()\n",
    "    \n",
    "        toolbar = NavigationToolbar2TkAgg(canvas1, pie_success)\n",
    "        toolbar.update()\n",
    "        canvas1._tkcanvas.pack()\n",
    "        #root.destroy()\n",
    "    else:\n",
    "        # the mandatory field is empty\n",
    "        print(\"mandatory data missing\")\n",
    "        if (len(entry4.get())==0):\n",
    "            lbl7.configure(text=\"Please enter actor1..\")\n",
    "        else:\n",
    "            lbl7.configure(text=\"Please enter directors..\")\n",
    "            \n",
    "            \n",
    "        \n",
    "    \n",
    "    \n",
    "    "
   ]
  },
  {
   "cell_type": "code",
   "execution_count": 22,
   "metadata": {},
   "outputs": [
    {
     "name": "stdout",
     "output_type": "stream",
     "text": [
      "You clicked the button !\n",
      "here\n",
      "jennifer aniston\n",
      "Jennifer Aniston\n",
      "http://www.imdb.com/name/nm0000098/\n",
      "after label\n",
      "inside getsucessrate1\n",
      "inside movielist\n",
      "find_rating_over_years\n",
      "getGenreRate\n",
      "{2017: [7.0], 2016: [5.8, 6.8, 5.6], 2014: [6.3, 6.4, 6.1], 2013: [5.8, 6.9, 7.0], 2012: [8.0, 5.6], 2011: [6.9, 6.4], 2010: [7.0, 6.1, 5.5], 2009: [5.6, 6.8, 6.4]}\n",
      "{'Drama': [7.0, 5.6, 6.4, 6.1, 5.6, 6.4], 'War': [7.0], 'Comedy': [5.8, 6.8, 5.6, 6.3, 6.1, 5.8, 6.9, 7.0, 8.0, 5.6, 6.9, 6.4, 7.0, 6.1, 5.5, 6.8, 6.4], 'Animation': [6.8], 'Adventure': [6.8], 'Family': [6.8], 'Fantasy': [6.8], 'Action': [6.3, 5.5], 'Crime': [6.3, 5.8, 6.9, 7.0, 6.9], 'Short': [6.9, 6.8], 'Romance': [8.0, 5.6, 6.4, 7.0, 6.1, 5.5, 5.6, 6.4], 'Music': [6.8]}\n",
      "{'Drama': '6.18', 'Comedy': '6.41', 'Animation': '6.8', 'Adventure': '6.8', 'Family': '6.8', 'Fantasy': '6.8', 'Action': '5.9', 'Romance': '6.32'}\n",
      "{2009: '6.27', 2010: '6.2', 2011: '6.65', 2012: '6.8', 2013: '6.57', 2014: '6.27', 2015: 0, 2016: '6.07', 2017: '7.0', 2018: 0}\n",
      "{2009: '6.27', 2010: '6.2', 2011: '6.65', 2012: '6.8', 2013: '6.57', 2014: '6.27', 2015: 0, 2016: '6.07', 2017: '7.0', 2018: 0}\n",
      "{'Drama': '6.18', 'Comedy': '6.41', 'Animation': '6.8', 'Adventure': '6.8', 'Family': '6.8', 'Fantasy': '6.8', 'Action': '5.9', 'Romance': '6.32'}\n"
     ]
    }
   ],
   "source": [
    "\n",
    "top = tkinter.Tk()\n",
    "top.title('SMDM PROJECT')\n",
    "top.geometry(\"500x300\")\n",
    "top.configure(bg=\"black\")\n",
    "\n",
    "\n",
    "var = StringVar()\n",
    "label = Label( top, textvariable=var, relief=RAISED )\n",
    "var.set(\"SOCIAL MEDIA AND DATA MINING\")\n",
    "label.pack()\n",
    "\n",
    "var = StringVar()\n",
    "label = Label( top, textvariable=var, relief=RAISED )\n",
    "var.set(\"ANALYSING SUCCESS RATE OF AN ACTOR\")\n",
    "label.pack()\n",
    "\n",
    "nb = ttk.Notebook(top)\n",
    "\n",
    "page1 = Frame(nb)\n",
    "page2 = ttk.Frame(nb)\n",
    "\n",
    "#frame = Frame(top, width=200, height=200,bg=\"blue\")\n",
    "#frame.pack()\n",
    "\n",
    "#text = ScrolledText(page1)\n",
    "#text.pack(expand=1, fill=\"both\")\n",
    "label = Label(page1, text=\"Please enter name\")\n",
    "label.pack()\n",
    "\n",
    "entry = Entry(page1, bd =5)\n",
    "entry.pack()\n",
    "\n",
    "\n",
    "B = tkinter.Button(page1, text =\"ANALYSE\", command = helloCallBack)\n",
    "B.pack()\n",
    "\n",
    "lbl = Label(page1,text=\"\")\n",
    "lbl.pack()\n",
    "lbl.bind(\"<Button-1>\", callback)\n",
    "\n",
    "lbl1 = Label(page1,text=\"\")\n",
    "lbl1.pack()\n",
    "lbl1.bind(\"<Button-1>\", callback)\n",
    "\n",
    "lbl2 = Label(page1,text=\"\")\n",
    "lbl2.pack()\n",
    "lbl2.bind(\"<Button-1>\", callback)\n",
    "\n",
    "# PAGE TWO STARTS.\n",
    "\n",
    "\n",
    "\n",
    "\n",
    "lbl5 = Label(page2,text=\"Genre*\")\n",
    "lbl5.pack()\n",
    "OPTIONS = [\n",
    "'Action','Adventure','Animation','Comedy','Drama','Family', 'Fantasy', 'Horror','Thriller', 'Romance','Sci-Fi'\n",
    "] \n",
    "variable = StringVar(page2)\n",
    "variable.set(OPTIONS[0]) # default value\n",
    "\n",
    "w = OptionMenu(page2, variable, *OPTIONS)\n",
    "w.pack()\n",
    "\n",
    "#entry3 = Entry(page2, bd =5)\n",
    "#entry3.pack()\n",
    "\n",
    "lbl4 = Label(page2,text=\"Actor1*\")\n",
    "lbl4.pack()\n",
    "entry4 = Entry(page2, bd =5)\n",
    "entry4.pack()\n",
    "\n",
    "lbl5 = Label(page2,text=\"Actor\")\n",
    "lbl5.pack()\n",
    "entry5 = Entry(page2, bd =5)\n",
    "entry5.pack()\n",
    "\n",
    "lbl6 = Label(page2,text=\"Director*\")\n",
    "lbl6.pack()\n",
    "entry6 = Entry(page2, bd =5)\n",
    "entry6.pack()\n",
    "\n",
    "lbl7 = Label(page2,text=\"\")\n",
    "lbl7.pack()\n",
    "\n",
    "B = tkinter.Button(page2, text =\"PREDICT\", command = movie_Predict)\n",
    "B.pack()\n",
    "\n",
    "nb.add(page1, text='Actor_success')\n",
    "nb.add(page2, text='Movie_success_prediction')\n",
    "nb.pack(expand=1, fill=\"both\")\n",
    "\n",
    "\n",
    "\n",
    "\n",
    "top.mainloop()"
   ]
  },
  {
   "cell_type": "code",
   "execution_count": null,
   "metadata": {
    "collapsed": true
   },
   "outputs": [],
   "source": []
  },
  {
   "cell_type": "code",
   "execution_count": null,
   "metadata": {
    "collapsed": true
   },
   "outputs": [],
   "source": []
  },
  {
   "cell_type": "code",
   "execution_count": null,
   "metadata": {
    "collapsed": true
   },
   "outputs": [],
   "source": []
  }
 ],
 "metadata": {
  "kernelspec": {
   "display_name": "Python 3",
   "language": "python",
   "name": "python3"
  },
  "language_info": {
   "codemirror_mode": {
    "name": "ipython",
    "version": 3
   },
   "file_extension": ".py",
   "mimetype": "text/x-python",
   "name": "python",
   "nbconvert_exporter": "python",
   "pygments_lexer": "ipython3",
   "version": "3.6.3"
  }
 },
 "nbformat": 4,
 "nbformat_minor": 2
}
